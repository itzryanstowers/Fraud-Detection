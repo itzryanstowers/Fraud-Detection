{
  "cells": [
    {
      "cell_type": "code",
      "execution_count": null,
      "metadata": {
        "colab": {
          "base_uri": "https://localhost:8080/"
        },
        "id": "j4irpWFpuX0z",
        "outputId": "63e82653-ee96-4699-f431-b46aeef3f78e"
      },
      "outputs": [],
      "source": [
        "pip install hvplot"
      ]
    },
    {
      "cell_type": "code",
      "execution_count": null,
      "metadata": {
        "colab": {
          "base_uri": "https://localhost:8080/",
          "height": 17
        },
        "id": "BjimzwRvQIz6",
        "outputId": "82c313a2-fa99-42bd-b012-2f54ac8a32ce"
      },
      "outputs": [],
      "source": [
        "# Imports\n",
        "import hvplot.pandas\n",
        "import numpy as np\n",
        "from pathlib import Path\n",
        "import pandas as pd\n",
        "import seaborn as sns\n",
        "import matplotlib.pyplot as plt\n",
        "import keras\n",
        "import tensorflow as tf\n",
        "from tensorflow.keras.layers import Dense\n",
        "from tensorflow.keras.models import Sequential\n",
        "from sklearn.model_selection import train_test_split\n",
        "from sklearn.preprocessing import StandardScaler,OneHotEncoder\n",
        "from sklearn.metrics import confusion_matrix\n",
        "from sklearn.metrics import classification_report\n"
      ]
    },
    {
      "cell_type": "markdown",
      "metadata": {
        "id": "QOH2XTDrQIz7"
      },
      "source": [
        "---\n",
        "\n",
        "## Exploratory Data Analysis"
      ]
    },
    {
      "cell_type": "code",
      "execution_count": null,
      "metadata": {},
      "outputs": [],
      "source": [
        "df_fraud_data = pd.read_csv(\n",
        "    Path(\"C:/Users/ryans/Next/Downloads/fraudTest.csv\"))\n",
        "\n",
        "# Display sample data\n",
        "df_fraud_data.head(10)"
      ]
    },
    {
      "cell_type": "code",
      "execution_count": null,
      "metadata": {
        "colab": {
          "base_uri": "https://localhost:8080/",
          "height": 73
        },
        "id": "Ows4klNSA3U5",
        "outputId": "01cc904e-86be-4044-85fd-e2546cb837f1"
      },
      "outputs": [],
      "source": [
        "# Import the `files` library to allow files upload\n",
        "from google.colab import files\n",
        "\n",
        "uploaded = files.upload()"
      ]
    },
    {
      "cell_type": "code",
      "execution_count": null,
      "metadata": {
        "colab": {
          "base_uri": "https://localhost:8080/",
          "height": 481
        },
        "id": "a_BfjJVqQYFl",
        "outputId": "e1bfa0ff-b3d2-4ed4-9e19-74f7c363eca9"
      },
      "outputs": [],
      "source": [
        "# Import applicants_data.csv to Google Colab\n",
        "# Read the CSV file from the terminal\n",
        "df = pd.read_csv(\"fraudTest.csv\")\n",
        "\n",
        "# Review the DataFrame\n",
        "df.head()"
      ]
    },
    {
      "cell_type": "code",
      "execution_count": 6,
      "metadata": {
        "colab": {
          "base_uri": "https://localhost:8080/"
        },
        "id": "J62Ed8N_QIz9",
        "outputId": "329d283e-8341-4a88-bce6-af111a689df6"
      },
      "outputs": [
        {
          "data": {
            "text/plain": [
              "Unnamed: 0                 int64\n",
              "trans_date_trans_time     object\n",
              "cc_num                     int64\n",
              "merchant                  object\n",
              "category                  object\n",
              "amt                      float64\n",
              "first                     object\n",
              "last                      object\n",
              "gender                    object\n",
              "street                    object\n",
              "city                      object\n",
              "state                     object\n",
              "zip                        int64\n",
              "lat                      float64\n",
              "long                     float64\n",
              "city_pop                   int64\n",
              "job                       object\n",
              "dob                       object\n",
              "trans_num                 object\n",
              "unix_time                  int64\n",
              "merch_lat                float64\n",
              "merch_long               float64\n",
              "is_fraud                   int64\n",
              "dtype: object"
            ]
          },
          "execution_count": 6,
          "metadata": {},
          "output_type": "execute_result"
        }
      ],
      "source": [
        "# Review the data types associated with the columns\n",
        "df = df_fraud_data\n",
        "df.dtypes"
      ]
    },
    {
      "cell_type": "code",
      "execution_count": 7,
      "metadata": {
        "colab": {
          "base_uri": "https://localhost:8080/",
          "height": 394
        },
        "id": "XgcSQtRUx7zV",
        "outputId": "573b68d1-ccfa-4883-aabd-1e415611a59e"
      },
      "outputs": [
        {
          "data": {
            "text/html": [
              "<div>\n",
              "<style scoped>\n",
              "    .dataframe tbody tr th:only-of-type {\n",
              "        vertical-align: middle;\n",
              "    }\n",
              "\n",
              "    .dataframe tbody tr th {\n",
              "        vertical-align: top;\n",
              "    }\n",
              "\n",
              "    .dataframe thead th {\n",
              "        text-align: right;\n",
              "    }\n",
              "</style>\n",
              "<table border=\"1\" class=\"dataframe\">\n",
              "  <thead>\n",
              "    <tr style=\"text-align: right;\">\n",
              "      <th></th>\n",
              "      <th>count</th>\n",
              "      <th>mean</th>\n",
              "      <th>std</th>\n",
              "      <th>min</th>\n",
              "      <th>25%</th>\n",
              "      <th>50%</th>\n",
              "      <th>75%</th>\n",
              "      <th>max</th>\n",
              "    </tr>\n",
              "  </thead>\n",
              "  <tbody>\n",
              "    <tr>\n",
              "      <th>Unnamed: 0</th>\n",
              "      <td>555719.0</td>\n",
              "      <td>2.778590e+05</td>\n",
              "      <td>1.604224e+05</td>\n",
              "      <td>0.000000e+00</td>\n",
              "      <td>1.389295e+05</td>\n",
              "      <td>2.778590e+05</td>\n",
              "      <td>4.167885e+05</td>\n",
              "      <td>5.557180e+05</td>\n",
              "    </tr>\n",
              "    <tr>\n",
              "      <th>cc_num</th>\n",
              "      <td>555719.0</td>\n",
              "      <td>4.178387e+17</td>\n",
              "      <td>1.309837e+18</td>\n",
              "      <td>6.041621e+10</td>\n",
              "      <td>1.800429e+14</td>\n",
              "      <td>3.521417e+15</td>\n",
              "      <td>4.635331e+15</td>\n",
              "      <td>4.992346e+18</td>\n",
              "    </tr>\n",
              "    <tr>\n",
              "      <th>amt</th>\n",
              "      <td>555719.0</td>\n",
              "      <td>6.939281e+01</td>\n",
              "      <td>1.567459e+02</td>\n",
              "      <td>1.000000e+00</td>\n",
              "      <td>9.630000e+00</td>\n",
              "      <td>4.729000e+01</td>\n",
              "      <td>8.301000e+01</td>\n",
              "      <td>2.276811e+04</td>\n",
              "    </tr>\n",
              "    <tr>\n",
              "      <th>zip</th>\n",
              "      <td>555719.0</td>\n",
              "      <td>4.884263e+04</td>\n",
              "      <td>2.685528e+04</td>\n",
              "      <td>1.257000e+03</td>\n",
              "      <td>2.629200e+04</td>\n",
              "      <td>4.817400e+04</td>\n",
              "      <td>7.201100e+04</td>\n",
              "      <td>9.992100e+04</td>\n",
              "    </tr>\n",
              "    <tr>\n",
              "      <th>lat</th>\n",
              "      <td>555719.0</td>\n",
              "      <td>3.854325e+01</td>\n",
              "      <td>5.061336e+00</td>\n",
              "      <td>2.002710e+01</td>\n",
              "      <td>3.466890e+01</td>\n",
              "      <td>3.937160e+01</td>\n",
              "      <td>4.189480e+01</td>\n",
              "      <td>6.568990e+01</td>\n",
              "    </tr>\n",
              "    <tr>\n",
              "      <th>long</th>\n",
              "      <td>555719.0</td>\n",
              "      <td>-9.023133e+01</td>\n",
              "      <td>1.372178e+01</td>\n",
              "      <td>-1.656723e+02</td>\n",
              "      <td>-9.679800e+01</td>\n",
              "      <td>-8.747690e+01</td>\n",
              "      <td>-8.017520e+01</td>\n",
              "      <td>-6.795030e+01</td>\n",
              "    </tr>\n",
              "    <tr>\n",
              "      <th>city_pop</th>\n",
              "      <td>555719.0</td>\n",
              "      <td>8.822189e+04</td>\n",
              "      <td>3.003909e+05</td>\n",
              "      <td>2.300000e+01</td>\n",
              "      <td>7.410000e+02</td>\n",
              "      <td>2.408000e+03</td>\n",
              "      <td>1.968500e+04</td>\n",
              "      <td>2.906700e+06</td>\n",
              "    </tr>\n",
              "    <tr>\n",
              "      <th>unix_time</th>\n",
              "      <td>555719.0</td>\n",
              "      <td>1.380679e+09</td>\n",
              "      <td>5.201104e+06</td>\n",
              "      <td>1.371817e+09</td>\n",
              "      <td>1.376029e+09</td>\n",
              "      <td>1.380762e+09</td>\n",
              "      <td>1.385867e+09</td>\n",
              "      <td>1.388534e+09</td>\n",
              "    </tr>\n",
              "    <tr>\n",
              "      <th>merch_lat</th>\n",
              "      <td>555719.0</td>\n",
              "      <td>3.854280e+01</td>\n",
              "      <td>5.095829e+00</td>\n",
              "      <td>1.902742e+01</td>\n",
              "      <td>3.475530e+01</td>\n",
              "      <td>3.937659e+01</td>\n",
              "      <td>4.195416e+01</td>\n",
              "      <td>6.667930e+01</td>\n",
              "    </tr>\n",
              "    <tr>\n",
              "      <th>merch_long</th>\n",
              "      <td>555719.0</td>\n",
              "      <td>-9.023138e+01</td>\n",
              "      <td>1.373307e+01</td>\n",
              "      <td>-1.666716e+02</td>\n",
              "      <td>-9.690513e+01</td>\n",
              "      <td>-8.744520e+01</td>\n",
              "      <td>-8.026464e+01</td>\n",
              "      <td>-6.695203e+01</td>\n",
              "    </tr>\n",
              "    <tr>\n",
              "      <th>is_fraud</th>\n",
              "      <td>555719.0</td>\n",
              "      <td>3.859864e-03</td>\n",
              "      <td>6.200784e-02</td>\n",
              "      <td>0.000000e+00</td>\n",
              "      <td>0.000000e+00</td>\n",
              "      <td>0.000000e+00</td>\n",
              "      <td>0.000000e+00</td>\n",
              "      <td>1.000000e+00</td>\n",
              "    </tr>\n",
              "  </tbody>\n",
              "</table>\n",
              "</div>"
            ],
            "text/plain": [
              "               count          mean           std           min           25%  \\\n",
              "Unnamed: 0  555719.0  2.778590e+05  1.604224e+05  0.000000e+00  1.389295e+05   \n",
              "cc_num      555719.0  4.178387e+17  1.309837e+18  6.041621e+10  1.800429e+14   \n",
              "amt         555719.0  6.939281e+01  1.567459e+02  1.000000e+00  9.630000e+00   \n",
              "zip         555719.0  4.884263e+04  2.685528e+04  1.257000e+03  2.629200e+04   \n",
              "lat         555719.0  3.854325e+01  5.061336e+00  2.002710e+01  3.466890e+01   \n",
              "long        555719.0 -9.023133e+01  1.372178e+01 -1.656723e+02 -9.679800e+01   \n",
              "city_pop    555719.0  8.822189e+04  3.003909e+05  2.300000e+01  7.410000e+02   \n",
              "unix_time   555719.0  1.380679e+09  5.201104e+06  1.371817e+09  1.376029e+09   \n",
              "merch_lat   555719.0  3.854280e+01  5.095829e+00  1.902742e+01  3.475530e+01   \n",
              "merch_long  555719.0 -9.023138e+01  1.373307e+01 -1.666716e+02 -9.690513e+01   \n",
              "is_fraud    555719.0  3.859864e-03  6.200784e-02  0.000000e+00  0.000000e+00   \n",
              "\n",
              "                     50%           75%           max  \n",
              "Unnamed: 0  2.778590e+05  4.167885e+05  5.557180e+05  \n",
              "cc_num      3.521417e+15  4.635331e+15  4.992346e+18  \n",
              "amt         4.729000e+01  8.301000e+01  2.276811e+04  \n",
              "zip         4.817400e+04  7.201100e+04  9.992100e+04  \n",
              "lat         3.937160e+01  4.189480e+01  6.568990e+01  \n",
              "long       -8.747690e+01 -8.017520e+01 -6.795030e+01  \n",
              "city_pop    2.408000e+03  1.968500e+04  2.906700e+06  \n",
              "unix_time   1.380762e+09  1.385867e+09  1.388534e+09  \n",
              "merch_lat   3.937659e+01  4.195416e+01  6.667930e+01  \n",
              "merch_long -8.744520e+01 -8.026464e+01 -6.695203e+01  \n",
              "is_fraud    0.000000e+00  0.000000e+00  1.000000e+00  "
            ]
          },
          "execution_count": 7,
          "metadata": {},
          "output_type": "execute_result"
        }
      ],
      "source": [
        "#viewing statistics about the dataset\n",
        "df.describe().T"
      ]
    },
    {
      "cell_type": "code",
      "execution_count": 8,
      "metadata": {
        "colab": {
          "base_uri": "https://localhost:8080/"
        },
        "id": "e_xbhRQrx7zW",
        "outputId": "c8b41e9b-0fe5-40d7-d87e-ae88f06595e5"
      },
      "outputs": [
        {
          "data": {
            "text/plain": [
              "Unnamed: 0               0\n",
              "trans_date_trans_time    0\n",
              "cc_num                   0\n",
              "merchant                 0\n",
              "category                 0\n",
              "amt                      0\n",
              "first                    0\n",
              "last                     0\n",
              "gender                   0\n",
              "street                   0\n",
              "city                     0\n",
              "state                    0\n",
              "zip                      0\n",
              "lat                      0\n",
              "long                     0\n",
              "city_pop                 0\n",
              "job                      0\n",
              "dob                      0\n",
              "trans_num                0\n",
              "unix_time                0\n",
              "merch_lat                0\n",
              "merch_long               0\n",
              "is_fraud                 0\n",
              "dtype: int64"
            ]
          },
          "execution_count": 8,
          "metadata": {},
          "output_type": "execute_result"
        }
      ],
      "source": [
        "#looking for null values\n",
        "df.isnull().sum()"
      ]
    },
    {
      "cell_type": "code",
      "execution_count": 9,
      "metadata": {},
      "outputs": [],
      "source": [
        "selected_col = ['trans_date_trans_time','amt','city','state','lat','long','job','merch_lat','merchant','is_fraud']"
      ]
    },
    {
      "cell_type": "code",
      "execution_count": 10,
      "metadata": {},
      "outputs": [
        {
          "data": {
            "text/plain": [
              "['trans_date_trans_time',\n",
              " 'amt',\n",
              " 'city',\n",
              " 'state',\n",
              " 'lat',\n",
              " 'long',\n",
              " 'job',\n",
              " 'merch_lat',\n",
              " 'merchant',\n",
              " 'is_fraud']"
            ]
          },
          "execution_count": 10,
          "metadata": {},
          "output_type": "execute_result"
        }
      ],
      "source": [
        "selected_col"
      ]
    },
    {
      "cell_type": "code",
      "execution_count": 11,
      "metadata": {},
      "outputs": [
        {
          "name": "stderr",
          "output_type": "stream",
          "text": [
            "C:\\Users\\ryans\\AppData\\Local\\Temp\\ipykernel_17676\\2451707784.py:1: FutureWarning: The default value of numeric_only in DataFrame.corr is deprecated. In a future version, it will default to False. Select only valid columns or specify the value of numeric_only to silence this warning.\n",
            "  df_corr = df[selected_col].corr()\n"
          ]
        }
      ],
      "source": [
        "df_corr = df[selected_col].corr()"
      ]
    },
    {
      "cell_type": "code",
      "execution_count": 12,
      "metadata": {},
      "outputs": [
        {
          "data": {
            "image/png": "[encoded data removed]",
            "text/plain": [
              "<Figure size 2000x1200 with 2 Axes>"
            ]
          },
          "metadata": {},
          "output_type": "display_data"
        }
      ],
      "source": [
        "plt.figure(figsize=(20, 12))\n",
        "sns.heatmap(df_corr, annot=True, cmap='coolwarm', fmt=\".2f\")\n",
        "plt.title('Correlation Heatmap (Selected Columns)')\n",
        "plt.show()\n"
      ]
    },
    {
      "cell_type": "code",
      "execution_count": 13,
      "metadata": {
        "colab": {
          "base_uri": "https://localhost:8080/",
          "height": 356
        },
        "id": "mKfs5q8mx7zW",
        "outputId": "7e36c34d-3518-4ca8-a078-e7897928ab8c"
      },
      "outputs": [
        {
          "name": "stderr",
          "output_type": "stream",
          "text": [
            "C:\\Users\\ryans\\AppData\\Local\\Temp\\ipykernel_17676\\3569356307.py:2: FutureWarning: The default value of numeric_only in DataFrame.corr is deprecated. In a future version, it will default to False. Select only valid columns or specify the value of numeric_only to silence this warning.\n",
            "  df_corr = df.corr()\n"
          ]
        },
        {
          "data": {
            "image/png": "[encoded data removed]",
            "text/plain": [
              "<Figure size 2000x1200 with 2 Axes>"
            ]
          },
          "metadata": {},
          "output_type": "display_data"
        }
      ],
      "source": [
        "#analyzing related columns\n",
        "df_corr = df.corr()\n",
        "\n",
        "plt.figure(figsize=(20, 12))\n",
        "sns.heatmap(df_corr, annot=True, cmap='coolwarm', fmt=\".2f\")\n",
        "plt.title('Correlation Heatmap')\n",
        "plt.show()"
      ]
    },
    {
      "cell_type": "code",
      "execution_count": null,
      "metadata": {
        "colab": {
          "base_uri": "https://localhost:8080/",
          "height": 410
        },
        "id": "npSc04gmZSLy",
        "outputId": "fd3ecb16-d646-4620-c5b1-766b7bf13550"
      },
      "outputs": [],
      "source": [
        "f, axes = plt.subplots(ncols=3, figsize=(20,4))\n",
        "\n",
        "# Positive Correlations with our Class (The higher our feature value the more likely it will be a fraud transaction)\n",
        "sns.boxplot(x=\"Class\", y=\"V2\", data=df, ax=axes[0])\n",
        "axes[0].set_title('V2 vs Class Positive Correlation')\n",
        "\n",
        "sns.boxplot(x=\"Class\", y=\"V4\", data=df, ax=axes[1])\n",
        "axes[1].set_title('V4 vs Class Positive Correlation')\n",
        "\n",
        "sns.boxplot(x=\"Class\", y=\"V11\", data=df, ax=axes[2])\n",
        "axes[2].set_title('V11 vs Class Positive Correlation')\n",
        "\n",
        "plt.show()\n",
        "\n"
      ]
    },
    {
      "cell_type": "code",
      "execution_count": 14,
      "metadata": {
        "colab": {
          "base_uri": "https://localhost:8080/",
          "height": 891
        },
        "id": "RjPOTIe-x7zX",
        "outputId": "f5b19e82-7548-46cb-cdf5-18df8744fdbd"
      },
      "outputs": [
        {
          "data": {
            "image/png": "[encoded data removed]",
            "text/plain": [
              "<Figure size 1500x1200 with 12 Axes>"
            ]
          },
          "metadata": {},
          "output_type": "display_data"
        }
      ],
      "source": [
        "#plot histogram of dataframe\n",
        "df.hist(figsize=(15, 12))\n",
        "plt.tight_layout()\n",
        "plt.show()"
      ]
    },
    {
      "cell_type": "code",
      "execution_count": 15,
      "metadata": {
        "colab": {
          "base_uri": "https://localhost:8080/"
        },
        "id": "X4Y9UNYyMmdH",
        "outputId": "0c476ec1-f756-46fc-e0cd-ecfe84038ffb"
      },
      "outputs": [
        {
          "name": "stdout",
          "output_type": "stream",
          "text": [
            "No Frauds 99.61 % of the dataset\n",
            "Frauds 0.39 % of the dataset\n"
          ]
        }
      ],
      "source": [
        "print('No Frauds', round(df['is_fraud'].value_counts()[0]/len(df) * 100,2), '% of the dataset')\n",
        "print('Frauds', round(df['is_fraud'].value_counts()[1]/len(df) * 100,2), '% of the dataset')"
      ]
    },
    {
      "cell_type": "code",
      "execution_count": 16,
      "metadata": {
        "id": "PVDde9Xbx7zX"
      },
      "outputs": [],
      "source": [
        "class_counts = df['is_fraud'].value_counts()"
      ]
    },
    {
      "cell_type": "code",
      "execution_count": 17,
      "metadata": {
        "colab": {
          "base_uri": "https://localhost:8080/",
          "height": 467
        },
        "id": "geEhUXMsTUcb",
        "outputId": "1796ba09-005d-48aa-d26a-f355328a4ac9"
      },
      "outputs": [
        {
          "data": {
            "image/png": "[encoded data removed]",
            "text/plain": [
              "<Figure size 640x480 with 1 Axes>"
            ]
          },
          "metadata": {},
          "output_type": "display_data"
        }
      ],
      "source": [
        "class_counts.plot(kind='bar')\n",
        "plt.title('Class Distribution')\n",
        "plt.show()\n"
      ]
    },
    {
      "cell_type": "code",
      "execution_count": 18,
      "metadata": {
        "id": "G5wBLX79n2mG"
      },
      "outputs": [],
      "source": [
        "df['trans_date_trans_time'] = pd.to_datetime(df['trans_date_trans_time'])"
      ]
    },
    {
      "cell_type": "code",
      "execution_count": 19,
      "metadata": {
        "id": "NdHnWuwgTiZ7"
      },
      "outputs": [],
      "source": [
        "df['dob'] = pd.to_datetime(df['dob'], format='%Y-%m-%d')"
      ]
    },
    {
      "cell_type": "code",
      "execution_count": 20,
      "metadata": {
        "colab": {
          "base_uri": "https://localhost:8080/"
        },
        "id": "fhj67KQgTskM",
        "outputId": "2939ad64-b354-45b8-ae36-1f143fb67c4f"
      },
      "outputs": [
        {
          "data": {
            "text/plain": [
              "Unnamed: 0                        int64\n",
              "trans_date_trans_time    datetime64[ns]\n",
              "cc_num                            int64\n",
              "merchant                         object\n",
              "category                         object\n",
              "amt                             float64\n",
              "first                            object\n",
              "last                             object\n",
              "gender                           object\n",
              "street                           object\n",
              "city                             object\n",
              "state                            object\n",
              "zip                               int64\n",
              "lat                             float64\n",
              "long                            float64\n",
              "city_pop                          int64\n",
              "job                              object\n",
              "dob                      datetime64[ns]\n",
              "trans_num                        object\n",
              "unix_time                         int64\n",
              "merch_lat                       float64\n",
              "merch_long                      float64\n",
              "is_fraud                          int64\n",
              "dtype: object"
            ]
          },
          "execution_count": 20,
          "metadata": {},
          "output_type": "execute_result"
        }
      ],
      "source": [
        "df.dtypes"
      ]
    },
    {
      "cell_type": "code",
      "execution_count": 21,
      "metadata": {},
      "outputs": [
        {
          "data": {
            "text/html": [
              "<div>\n",
              "<style scoped>\n",
              "    .dataframe tbody tr th:only-of-type {\n",
              "        vertical-align: middle;\n",
              "    }\n",
              "\n",
              "    .dataframe tbody tr th {\n",
              "        vertical-align: top;\n",
              "    }\n",
              "\n",
              "    .dataframe thead th {\n",
              "        text-align: right;\n",
              "    }\n",
              "</style>\n",
              "<table border=\"1\" class=\"dataframe\">\n",
              "  <thead>\n",
              "    <tr style=\"text-align: right;\">\n",
              "      <th></th>\n",
              "      <th>amt</th>\n",
              "      <th>city</th>\n",
              "      <th>state</th>\n",
              "      <th>lat</th>\n",
              "      <th>long</th>\n",
              "      <th>job</th>\n",
              "      <th>merch_lat</th>\n",
              "      <th>merchant</th>\n",
              "      <th>is_fraud</th>\n",
              "    </tr>\n",
              "    <tr>\n",
              "      <th>trans_date_trans_time</th>\n",
              "      <th></th>\n",
              "      <th></th>\n",
              "      <th></th>\n",
              "      <th></th>\n",
              "      <th></th>\n",
              "      <th></th>\n",
              "      <th></th>\n",
              "      <th></th>\n",
              "      <th></th>\n",
              "    </tr>\n",
              "  </thead>\n",
              "  <tbody>\n",
              "    <tr>\n",
              "      <th>2020-06-21 12:14:25</th>\n",
              "      <td>2.86</td>\n",
              "      <td>Columbia</td>\n",
              "      <td>SC</td>\n",
              "      <td>33.9659</td>\n",
              "      <td>-80.9355</td>\n",
              "      <td>Mechanical engineer</td>\n",
              "      <td>33.986391</td>\n",
              "      <td>fraud_Kirlin and Sons</td>\n",
              "      <td>0</td>\n",
              "    </tr>\n",
              "    <tr>\n",
              "      <th>2020-06-21 12:14:33</th>\n",
              "      <td>29.84</td>\n",
              "      <td>Altonah</td>\n",
              "      <td>UT</td>\n",
              "      <td>40.3207</td>\n",
              "      <td>-110.4360</td>\n",
              "      <td>Sales professional, IT</td>\n",
              "      <td>39.450498</td>\n",
              "      <td>fraud_Sporer-Keebler</td>\n",
              "      <td>0</td>\n",
              "    </tr>\n",
              "    <tr>\n",
              "      <th>2020-06-21 12:14:53</th>\n",
              "      <td>41.28</td>\n",
              "      <td>Bellmore</td>\n",
              "      <td>NY</td>\n",
              "      <td>40.6729</td>\n",
              "      <td>-73.5365</td>\n",
              "      <td>Librarian, public</td>\n",
              "      <td>40.495810</td>\n",
              "      <td>fraud_Swaniawski, Nitzsche and Welch</td>\n",
              "      <td>0</td>\n",
              "    </tr>\n",
              "    <tr>\n",
              "      <th>2020-06-21 12:15:15</th>\n",
              "      <td>60.05</td>\n",
              "      <td>Titusville</td>\n",
              "      <td>FL</td>\n",
              "      <td>28.5697</td>\n",
              "      <td>-80.8191</td>\n",
              "      <td>Set designer</td>\n",
              "      <td>28.812398</td>\n",
              "      <td>fraud_Haley Group</td>\n",
              "      <td>0</td>\n",
              "    </tr>\n",
              "    <tr>\n",
              "      <th>2020-06-21 12:15:17</th>\n",
              "      <td>3.19</td>\n",
              "      <td>Falmouth</td>\n",
              "      <td>MI</td>\n",
              "      <td>44.2529</td>\n",
              "      <td>-85.0170</td>\n",
              "      <td>Furniture designer</td>\n",
              "      <td>44.959148</td>\n",
              "      <td>fraud_Johnston-Casper</td>\n",
              "      <td>0</td>\n",
              "    </tr>\n",
              "    <tr>\n",
              "      <th>...</th>\n",
              "      <td>...</td>\n",
              "      <td>...</td>\n",
              "      <td>...</td>\n",
              "      <td>...</td>\n",
              "      <td>...</td>\n",
              "      <td>...</td>\n",
              "      <td>...</td>\n",
              "      <td>...</td>\n",
              "      <td>...</td>\n",
              "    </tr>\n",
              "    <tr>\n",
              "      <th>2020-12-31 23:59:07</th>\n",
              "      <td>43.77</td>\n",
              "      <td>Luray</td>\n",
              "      <td>MO</td>\n",
              "      <td>40.4931</td>\n",
              "      <td>-91.8912</td>\n",
              "      <td>Town planner</td>\n",
              "      <td>39.946837</td>\n",
              "      <td>fraud_Reilly and Sons</td>\n",
              "      <td>0</td>\n",
              "    </tr>\n",
              "    <tr>\n",
              "      <th>2020-12-31 23:59:09</th>\n",
              "      <td>111.84</td>\n",
              "      <td>Lake Jackson</td>\n",
              "      <td>TX</td>\n",
              "      <td>29.0393</td>\n",
              "      <td>-95.4401</td>\n",
              "      <td>Futures trader</td>\n",
              "      <td>29.661049</td>\n",
              "      <td>fraud_Hoppe-Parisian</td>\n",
              "      <td>0</td>\n",
              "    </tr>\n",
              "    <tr>\n",
              "      <th>2020-12-31 23:59:15</th>\n",
              "      <td>86.88</td>\n",
              "      <td>Burbank</td>\n",
              "      <td>WA</td>\n",
              "      <td>46.1966</td>\n",
              "      <td>-118.9017</td>\n",
              "      <td>Musician</td>\n",
              "      <td>46.658340</td>\n",
              "      <td>fraud_Rau-Robel</td>\n",
              "      <td>0</td>\n",
              "    </tr>\n",
              "    <tr>\n",
              "      <th>2020-12-31 23:59:24</th>\n",
              "      <td>7.99</td>\n",
              "      <td>Mesa</td>\n",
              "      <td>ID</td>\n",
              "      <td>44.6255</td>\n",
              "      <td>-116.4493</td>\n",
              "      <td>Cartographer</td>\n",
              "      <td>44.470525</td>\n",
              "      <td>fraud_Breitenberg LLC</td>\n",
              "      <td>0</td>\n",
              "    </tr>\n",
              "    <tr>\n",
              "      <th>2020-12-31 23:59:34</th>\n",
              "      <td>38.13</td>\n",
              "      <td>Edmond</td>\n",
              "      <td>OK</td>\n",
              "      <td>35.6665</td>\n",
              "      <td>-97.4798</td>\n",
              "      <td>Media buyer</td>\n",
              "      <td>36.210097</td>\n",
              "      <td>fraud_Dare-Marvin</td>\n",
              "      <td>0</td>\n",
              "    </tr>\n",
              "  </tbody>\n",
              "</table>\n",
              "<p>555719 rows × 9 columns</p>\n",
              "</div>"
            ],
            "text/plain": [
              "                          amt          city state      lat      long  \\\n",
              "trans_date_trans_time                                                  \n",
              "2020-06-21 12:14:25      2.86      Columbia    SC  33.9659  -80.9355   \n",
              "2020-06-21 12:14:33     29.84       Altonah    UT  40.3207 -110.4360   \n",
              "2020-06-21 12:14:53     41.28      Bellmore    NY  40.6729  -73.5365   \n",
              "2020-06-21 12:15:15     60.05    Titusville    FL  28.5697  -80.8191   \n",
              "2020-06-21 12:15:17      3.19      Falmouth    MI  44.2529  -85.0170   \n",
              "...                       ...           ...   ...      ...       ...   \n",
              "2020-12-31 23:59:07     43.77         Luray    MO  40.4931  -91.8912   \n",
              "2020-12-31 23:59:09    111.84  Lake Jackson    TX  29.0393  -95.4401   \n",
              "2020-12-31 23:59:15     86.88       Burbank    WA  46.1966 -118.9017   \n",
              "2020-12-31 23:59:24      7.99          Mesa    ID  44.6255 -116.4493   \n",
              "2020-12-31 23:59:34     38.13        Edmond    OK  35.6665  -97.4798   \n",
              "\n",
              "                                          job  merch_lat  \\\n",
              "trans_date_trans_time                                      \n",
              "2020-06-21 12:14:25       Mechanical engineer  33.986391   \n",
              "2020-06-21 12:14:33    Sales professional, IT  39.450498   \n",
              "2020-06-21 12:14:53         Librarian, public  40.495810   \n",
              "2020-06-21 12:15:15              Set designer  28.812398   \n",
              "2020-06-21 12:15:17        Furniture designer  44.959148   \n",
              "...                                       ...        ...   \n",
              "2020-12-31 23:59:07              Town planner  39.946837   \n",
              "2020-12-31 23:59:09            Futures trader  29.661049   \n",
              "2020-12-31 23:59:15                  Musician  46.658340   \n",
              "2020-12-31 23:59:24              Cartographer  44.470525   \n",
              "2020-12-31 23:59:34               Media buyer  36.210097   \n",
              "\n",
              "                                                   merchant  is_fraud  \n",
              "trans_date_trans_time                                                  \n",
              "2020-06-21 12:14:25                   fraud_Kirlin and Sons         0  \n",
              "2020-06-21 12:14:33                    fraud_Sporer-Keebler         0  \n",
              "2020-06-21 12:14:53    fraud_Swaniawski, Nitzsche and Welch         0  \n",
              "2020-06-21 12:15:15                       fraud_Haley Group         0  \n",
              "2020-06-21 12:15:17                   fraud_Johnston-Casper         0  \n",
              "...                                                     ...       ...  \n",
              "2020-12-31 23:59:07                   fraud_Reilly and Sons         0  \n",
              "2020-12-31 23:59:09                    fraud_Hoppe-Parisian         0  \n",
              "2020-12-31 23:59:15                         fraud_Rau-Robel         0  \n",
              "2020-12-31 23:59:24                   fraud_Breitenberg LLC         0  \n",
              "2020-12-31 23:59:34                       fraud_Dare-Marvin         0  \n",
              "\n",
              "[555719 rows x 9 columns]"
            ]
          },
          "execution_count": 21,
          "metadata": {},
          "output_type": "execute_result"
        }
      ],
      "source": [
        "new_df = df[selected_col].set_index('trans_date_trans_time')\n",
        "new_df"
      ]
    },
    {
      "cell_type": "code",
      "execution_count": 24,
      "metadata": {},
      "outputs": [
        {
          "name": "stdout",
          "output_type": "stream",
          "text": [
            "<class 'pandas.core.frame.DataFrame'>\n",
            "DatetimeIndex: 555719 entries, 2020-06-21 12:14:25 to 2020-12-31 23:59:34\n",
            "Data columns (total 9 columns):\n",
            " #   Column     Non-Null Count   Dtype  \n",
            "---  ------     --------------   -----  \n",
            " 0   amt        555719 non-null  float64\n",
            " 1   city       555719 non-null  object \n",
            " 2   state      555719 non-null  object \n",
            " 3   lat        555719 non-null  float64\n",
            " 4   long       555719 non-null  float64\n",
            " 5   job        555719 non-null  object \n",
            " 6   merch_lat  555719 non-null  float64\n",
            " 7   merchant   555719 non-null  object \n",
            " 8   is_fraud   555719 non-null  int64  \n",
            "dtypes: float64(4), int64(1), object(4)\n",
            "memory usage: 42.4+ MB\n"
          ]
        }
      ],
      "source": [
        "new_df.info()"
      ]
    },
    {
      "cell_type": "code",
      "execution_count": 25,
      "metadata": {
        "id": "DCGyPot2hzg-"
      },
      "outputs": [],
      "source": [
        "# Create a OneHotEncoder instance\n",
        "enc = OneHotEncoder(sparse=False)"
      ]
    },
    {
      "cell_type": "code",
      "execution_count": 26,
      "metadata": {
        "colab": {
          "base_uri": "https://localhost:8080/"
        },
        "id": "R6-g5CErhzMh",
        "outputId": "83eb6295-c6ed-4680-d47e-e07d43ea82ae"
      },
      "outputs": [
        {
          "data": {
            "text/plain": [
              "['city', 'state', 'job', 'merchant']"
            ]
          },
          "execution_count": 26,
          "metadata": {},
          "output_type": "execute_result"
        }
      ],
      "source": [
        "list(new_df.dtypes[new_df.dtypes == \"object\"].index)"
      ]
    },
    {
      "cell_type": "code",
      "execution_count": 27,
      "metadata": {
        "id": "mtg6ZzGhkjvI"
      },
      "outputs": [],
      "source": [
        "categorical_variables = ['city', 'state', 'job', 'merchant']"
      ]
    },
    {
      "cell_type": "code",
      "execution_count": 28,
      "metadata": {},
      "outputs": [
        {
          "data": {
            "text/plain": [
              "amt          float64\n",
              "city          object\n",
              "state         object\n",
              "lat          float64\n",
              "long         float64\n",
              "job           object\n",
              "merch_lat    float64\n",
              "merchant      object\n",
              "is_fraud       int64\n",
              "dtype: object"
            ]
          },
          "execution_count": 28,
          "metadata": {},
          "output_type": "execute_result"
        }
      ],
      "source": [
        "new_df.dtypes"
      ]
    },
    {
      "cell_type": "code",
      "execution_count": 29,
      "metadata": {},
      "outputs": [
        {
          "data": {
            "text/plain": [
              "(555719, 9)"
            ]
          },
          "execution_count": 29,
          "metadata": {},
          "output_type": "execute_result"
        }
      ],
      "source": [
        "new_df.shape"
      ]
    },
    {
      "cell_type": "code",
      "execution_count": 30,
      "metadata": {
        "colab": {
          "base_uri": "https://localhost:8080/"
        },
        "id": "RAaZ0_rNm_fn",
        "outputId": "33a2d086-fb3e-410a-e55c-1245e5647593"
      },
      "outputs": [
        {
          "name": "stderr",
          "output_type": "stream",
          "text": [
            "c:\\Users\\ryans\\AppData\\Local\\Programs\\Python\\Python311\\Lib\\site-packages\\sklearn\\preprocessing\\_encoders.py:828: FutureWarning: `sparse` was renamed to `sparse_output` in version 1.2 and will be removed in 1.4. `sparse_output` is ignored unless you leave `sparse` to its default value.\n",
            "  warnings.warn(\n"
          ]
        }
      ],
      "source": [
        "# Use the fit_transform method from the OneHotEncoder to encode the data\n",
        "encoded_data = enc.fit_transform(new_df[categorical_variables])"
      ]
    },
    {
      "cell_type": "code",
      "execution_count": 31,
      "metadata": {
        "id": "anLsc8Nwtr4c"
      },
      "outputs": [
        {
          "data": {
            "text/html": [
              "<div>\n",
              "<style scoped>\n",
              "    .dataframe tbody tr th:only-of-type {\n",
              "        vertical-align: middle;\n",
              "    }\n",
              "\n",
              "    .dataframe tbody tr th {\n",
              "        vertical-align: top;\n",
              "    }\n",
              "\n",
              "    .dataframe thead th {\n",
              "        text-align: right;\n",
              "    }\n",
              "</style>\n",
              "<table border=\"1\" class=\"dataframe\">\n",
              "  <thead>\n",
              "    <tr style=\"text-align: right;\">\n",
              "      <th></th>\n",
              "      <th>city_Achille</th>\n",
              "      <th>city_Acworth</th>\n",
              "      <th>city_Adams</th>\n",
              "      <th>city_Afton</th>\n",
              "      <th>city_Akron</th>\n",
              "      <th>city_Albany</th>\n",
              "      <th>city_Albuquerque</th>\n",
              "      <th>city_Alder</th>\n",
              "      <th>city_Aledo</th>\n",
              "      <th>city_Alexandria</th>\n",
              "      <th>...</th>\n",
              "      <th>merchant_fraud_Yost, Schamberger and Windler</th>\n",
              "      <th>merchant_fraud_Yost-Rogahn</th>\n",
              "      <th>merchant_fraud_Zboncak LLC</th>\n",
              "      <th>merchant_fraud_Zboncak Ltd</th>\n",
              "      <th>merchant_fraud_Zboncak, Rowe and Murazik</th>\n",
              "      <th>merchant_fraud_Zemlak Group</th>\n",
              "      <th>merchant_fraud_Zemlak, Tillman and Cremin</th>\n",
              "      <th>merchant_fraud_Ziemann-Waters</th>\n",
              "      <th>merchant_fraud_Zieme, Bode and Dooley</th>\n",
              "      <th>merchant_fraud_Zulauf LLC</th>\n",
              "    </tr>\n",
              "  </thead>\n",
              "  <tbody>\n",
              "    <tr>\n",
              "      <th>0</th>\n",
              "      <td>0.0</td>\n",
              "      <td>0.0</td>\n",
              "      <td>0.0</td>\n",
              "      <td>0.0</td>\n",
              "      <td>0.0</td>\n",
              "      <td>0.0</td>\n",
              "      <td>0.0</td>\n",
              "      <td>0.0</td>\n",
              "      <td>0.0</td>\n",
              "      <td>0.0</td>\n",
              "      <td>...</td>\n",
              "      <td>0.0</td>\n",
              "      <td>0.0</td>\n",
              "      <td>0.0</td>\n",
              "      <td>0.0</td>\n",
              "      <td>0.0</td>\n",
              "      <td>0.0</td>\n",
              "      <td>0.0</td>\n",
              "      <td>0.0</td>\n",
              "      <td>0.0</td>\n",
              "      <td>0.0</td>\n",
              "    </tr>\n",
              "    <tr>\n",
              "      <th>1</th>\n",
              "      <td>0.0</td>\n",
              "      <td>0.0</td>\n",
              "      <td>0.0</td>\n",
              "      <td>0.0</td>\n",
              "      <td>0.0</td>\n",
              "      <td>0.0</td>\n",
              "      <td>0.0</td>\n",
              "      <td>0.0</td>\n",
              "      <td>0.0</td>\n",
              "      <td>0.0</td>\n",
              "      <td>...</td>\n",
              "      <td>0.0</td>\n",
              "      <td>0.0</td>\n",
              "      <td>0.0</td>\n",
              "      <td>0.0</td>\n",
              "      <td>0.0</td>\n",
              "      <td>0.0</td>\n",
              "      <td>0.0</td>\n",
              "      <td>0.0</td>\n",
              "      <td>0.0</td>\n",
              "      <td>0.0</td>\n",
              "    </tr>\n",
              "    <tr>\n",
              "      <th>2</th>\n",
              "      <td>0.0</td>\n",
              "      <td>0.0</td>\n",
              "      <td>0.0</td>\n",
              "      <td>0.0</td>\n",
              "      <td>0.0</td>\n",
              "      <td>0.0</td>\n",
              "      <td>0.0</td>\n",
              "      <td>0.0</td>\n",
              "      <td>0.0</td>\n",
              "      <td>0.0</td>\n",
              "      <td>...</td>\n",
              "      <td>0.0</td>\n",
              "      <td>0.0</td>\n",
              "      <td>0.0</td>\n",
              "      <td>0.0</td>\n",
              "      <td>0.0</td>\n",
              "      <td>0.0</td>\n",
              "      <td>0.0</td>\n",
              "      <td>0.0</td>\n",
              "      <td>0.0</td>\n",
              "      <td>0.0</td>\n",
              "    </tr>\n",
              "    <tr>\n",
              "      <th>3</th>\n",
              "      <td>0.0</td>\n",
              "      <td>0.0</td>\n",
              "      <td>0.0</td>\n",
              "      <td>0.0</td>\n",
              "      <td>0.0</td>\n",
              "      <td>0.0</td>\n",
              "      <td>0.0</td>\n",
              "      <td>0.0</td>\n",
              "      <td>0.0</td>\n",
              "      <td>0.0</td>\n",
              "      <td>...</td>\n",
              "      <td>0.0</td>\n",
              "      <td>0.0</td>\n",
              "      <td>0.0</td>\n",
              "      <td>0.0</td>\n",
              "      <td>0.0</td>\n",
              "      <td>0.0</td>\n",
              "      <td>0.0</td>\n",
              "      <td>0.0</td>\n",
              "      <td>0.0</td>\n",
              "      <td>0.0</td>\n",
              "    </tr>\n",
              "    <tr>\n",
              "      <th>4</th>\n",
              "      <td>0.0</td>\n",
              "      <td>0.0</td>\n",
              "      <td>0.0</td>\n",
              "      <td>0.0</td>\n",
              "      <td>0.0</td>\n",
              "      <td>0.0</td>\n",
              "      <td>0.0</td>\n",
              "      <td>0.0</td>\n",
              "      <td>0.0</td>\n",
              "      <td>0.0</td>\n",
              "      <td>...</td>\n",
              "      <td>0.0</td>\n",
              "      <td>0.0</td>\n",
              "      <td>0.0</td>\n",
              "      <td>0.0</td>\n",
              "      <td>0.0</td>\n",
              "      <td>0.0</td>\n",
              "      <td>0.0</td>\n",
              "      <td>0.0</td>\n",
              "      <td>0.0</td>\n",
              "      <td>0.0</td>\n",
              "    </tr>\n",
              "  </tbody>\n",
              "</table>\n",
              "<p>5 rows × 2070 columns</p>\n",
              "</div>"
            ],
            "text/plain": [
              "   city_Achille  city_Acworth  city_Adams  city_Afton  city_Akron  \\\n",
              "0           0.0           0.0         0.0         0.0         0.0   \n",
              "1           0.0           0.0         0.0         0.0         0.0   \n",
              "2           0.0           0.0         0.0         0.0         0.0   \n",
              "3           0.0           0.0         0.0         0.0         0.0   \n",
              "4           0.0           0.0         0.0         0.0         0.0   \n",
              "\n",
              "   city_Albany  city_Albuquerque  city_Alder  city_Aledo  city_Alexandria  \\\n",
              "0          0.0               0.0         0.0         0.0              0.0   \n",
              "1          0.0               0.0         0.0         0.0              0.0   \n",
              "2          0.0               0.0         0.0         0.0              0.0   \n",
              "3          0.0               0.0         0.0         0.0              0.0   \n",
              "4          0.0               0.0         0.0         0.0              0.0   \n",
              "\n",
              "   ...  merchant_fraud_Yost, Schamberger and Windler  \\\n",
              "0  ...                                           0.0   \n",
              "1  ...                                           0.0   \n",
              "2  ...                                           0.0   \n",
              "3  ...                                           0.0   \n",
              "4  ...                                           0.0   \n",
              "\n",
              "   merchant_fraud_Yost-Rogahn  merchant_fraud_Zboncak LLC  \\\n",
              "0                         0.0                         0.0   \n",
              "1                         0.0                         0.0   \n",
              "2                         0.0                         0.0   \n",
              "3                         0.0                         0.0   \n",
              "4                         0.0                         0.0   \n",
              "\n",
              "   merchant_fraud_Zboncak Ltd  merchant_fraud_Zboncak, Rowe and Murazik  \\\n",
              "0                         0.0                                       0.0   \n",
              "1                         0.0                                       0.0   \n",
              "2                         0.0                                       0.0   \n",
              "3                         0.0                                       0.0   \n",
              "4                         0.0                                       0.0   \n",
              "\n",
              "   merchant_fraud_Zemlak Group  merchant_fraud_Zemlak, Tillman and Cremin  \\\n",
              "0                          0.0                                        0.0   \n",
              "1                          0.0                                        0.0   \n",
              "2                          0.0                                        0.0   \n",
              "3                          0.0                                        0.0   \n",
              "4                          0.0                                        0.0   \n",
              "\n",
              "   merchant_fraud_Ziemann-Waters  merchant_fraud_Zieme, Bode and Dooley  \\\n",
              "0                            0.0                                    0.0   \n",
              "1                            0.0                                    0.0   \n",
              "2                            0.0                                    0.0   \n",
              "3                            0.0                                    0.0   \n",
              "4                            0.0                                    0.0   \n",
              "\n",
              "   merchant_fraud_Zulauf LLC  \n",
              "0                        0.0  \n",
              "1                        0.0  \n",
              "2                        0.0  \n",
              "3                        0.0  \n",
              "4                        0.0  \n",
              "\n",
              "[5 rows x 2070 columns]"
            ]
          },
          "execution_count": 31,
          "metadata": {},
          "output_type": "execute_result"
        }
      ],
      "source": [
        "# Create a DataFrame with the encoded variables\n",
        "encoded_df = pd.DataFrame(\n",
        "    encoded_data,\n",
        "    columns = enc.get_feature_names_out(categorical_variables)\n",
        ")\n",
        "\n",
        "# Display sample data\n",
        "encoded_df.head()"
      ]
    },
    {
      "cell_type": "code",
      "execution_count": 33,
      "metadata": {},
      "outputs": [
        {
          "data": {
            "text/plain": [
              "(555719, 2070)"
            ]
          },
          "execution_count": 33,
          "metadata": {},
          "output_type": "execute_result"
        }
      ],
      "source": [
        "encoded_df"
      ]
    },
    {
      "cell_type": "markdown",
      "metadata": {
        "id": "wdL7xzJ2QI0B"
      },
      "source": [
        "### Step 2: Data Preparation\n",
        "\n"
      ]
    },
    {
      "cell_type": "code",
      "execution_count": 32,
      "metadata": {
        "colab": {
          "base_uri": "https://localhost:8080/"
        },
        "id": "wcCAbEC9QI0B",
        "outputId": "7b1535db-b761-41f1-fc40-ee99f2b563fb"
      },
      "outputs": [
        {
          "ename": "KeyError",
          "evalue": "'is_fraud'",
          "output_type": "error",
          "traceback": [
            "\u001b[1;31m---------------------------------------------------------------------------\u001b[0m",
            "\u001b[1;31mKeyError\u001b[0m                                  Traceback (most recent call last)",
            "File \u001b[1;32mc:\\Users\\ryans\\AppData\\Local\\Programs\\Python\\Python311\\Lib\\site-packages\\pandas\\core\\indexes\\base.py:3803\u001b[0m, in \u001b[0;36mIndex.get_loc\u001b[1;34m(self, key, method, tolerance)\u001b[0m\n\u001b[0;32m   3802\u001b[0m \u001b[38;5;28;01mtry\u001b[39;00m:\n\u001b[1;32m-> 3803\u001b[0m     \u001b[38;5;28;01mreturn\u001b[39;00m \u001b[38;5;28;43mself\u001b[39;49m\u001b[38;5;241;43m.\u001b[39;49m\u001b[43m_engine\u001b[49m\u001b[38;5;241;43m.\u001b[39;49m\u001b[43mget_loc\u001b[49m\u001b[43m(\u001b[49m\u001b[43mcasted_key\u001b[49m\u001b[43m)\u001b[49m\n\u001b[0;32m   3804\u001b[0m \u001b[38;5;28;01mexcept\u001b[39;00m \u001b[38;5;167;01mKeyError\u001b[39;00m \u001b[38;5;28;01mas\u001b[39;00m err:\n",
            "File \u001b[1;32mc:\\Users\\ryans\\AppData\\Local\\Programs\\Python\\Python311\\Lib\\site-packages\\pandas\\_libs\\index.pyx:138\u001b[0m, in \u001b[0;36mpandas._libs.index.IndexEngine.get_loc\u001b[1;34m()\u001b[0m\n",
            "File \u001b[1;32mc:\\Users\\ryans\\AppData\\Local\\Programs\\Python\\Python311\\Lib\\site-packages\\pandas\\_libs\\index.pyx:165\u001b[0m, in \u001b[0;36mpandas._libs.index.IndexEngine.get_loc\u001b[1;34m()\u001b[0m\n",
            "File \u001b[1;32mpandas\\_libs\\hashtable_class_helper.pxi:5745\u001b[0m, in \u001b[0;36mpandas._libs.hashtable.PyObjectHashTable.get_item\u001b[1;34m()\u001b[0m\n",
            "File \u001b[1;32mpandas\\_libs\\hashtable_class_helper.pxi:5753\u001b[0m, in \u001b[0;36mpandas._libs.hashtable.PyObjectHashTable.get_item\u001b[1;34m()\u001b[0m\n",
            "\u001b[1;31mKeyError\u001b[0m: 'is_fraud'",
            "\nThe above exception was the direct cause of the following exception:\n",
            "\u001b[1;31mKeyError\u001b[0m                                  Traceback (most recent call last)",
            "Cell \u001b[1;32mIn[32], line 2\u001b[0m\n\u001b[0;32m      1\u001b[0m \u001b[38;5;66;03m# Define the target set y using the Class column\u001b[39;00m\n\u001b[1;32m----> 2\u001b[0m y \u001b[38;5;241m=\u001b[39m \u001b[43mencoded_df\u001b[49m\u001b[43m[\u001b[49m\u001b[38;5;124;43m\"\u001b[39;49m\u001b[38;5;124;43mis_fraud\u001b[39;49m\u001b[38;5;124;43m\"\u001b[39;49m\u001b[43m]\u001b[49m\n\u001b[0;32m      4\u001b[0m \u001b[38;5;66;03m# Display a sample of y\u001b[39;00m\n\u001b[0;32m      5\u001b[0m y\n",
            "File \u001b[1;32mc:\\Users\\ryans\\AppData\\Local\\Programs\\Python\\Python311\\Lib\\site-packages\\pandas\\core\\frame.py:3805\u001b[0m, in \u001b[0;36mDataFrame.__getitem__\u001b[1;34m(self, key)\u001b[0m\n\u001b[0;32m   3803\u001b[0m \u001b[38;5;28;01mif\u001b[39;00m \u001b[38;5;28mself\u001b[39m\u001b[38;5;241m.\u001b[39mcolumns\u001b[38;5;241m.\u001b[39mnlevels \u001b[38;5;241m>\u001b[39m \u001b[38;5;241m1\u001b[39m:\n\u001b[0;32m   3804\u001b[0m     \u001b[38;5;28;01mreturn\u001b[39;00m \u001b[38;5;28mself\u001b[39m\u001b[38;5;241m.\u001b[39m_getitem_multilevel(key)\n\u001b[1;32m-> 3805\u001b[0m indexer \u001b[38;5;241m=\u001b[39m \u001b[38;5;28;43mself\u001b[39;49m\u001b[38;5;241;43m.\u001b[39;49m\u001b[43mcolumns\u001b[49m\u001b[38;5;241;43m.\u001b[39;49m\u001b[43mget_loc\u001b[49m\u001b[43m(\u001b[49m\u001b[43mkey\u001b[49m\u001b[43m)\u001b[49m\n\u001b[0;32m   3806\u001b[0m \u001b[38;5;28;01mif\u001b[39;00m is_integer(indexer):\n\u001b[0;32m   3807\u001b[0m     indexer \u001b[38;5;241m=\u001b[39m [indexer]\n",
            "File \u001b[1;32mc:\\Users\\ryans\\AppData\\Local\\Programs\\Python\\Python311\\Lib\\site-packages\\pandas\\core\\indexes\\base.py:3805\u001b[0m, in \u001b[0;36mIndex.get_loc\u001b[1;34m(self, key, method, tolerance)\u001b[0m\n\u001b[0;32m   3803\u001b[0m     \u001b[38;5;28;01mreturn\u001b[39;00m \u001b[38;5;28mself\u001b[39m\u001b[38;5;241m.\u001b[39m_engine\u001b[38;5;241m.\u001b[39mget_loc(casted_key)\n\u001b[0;32m   3804\u001b[0m \u001b[38;5;28;01mexcept\u001b[39;00m \u001b[38;5;167;01mKeyError\u001b[39;00m \u001b[38;5;28;01mas\u001b[39;00m err:\n\u001b[1;32m-> 3805\u001b[0m     \u001b[38;5;28;01mraise\u001b[39;00m \u001b[38;5;167;01mKeyError\u001b[39;00m(key) \u001b[38;5;28;01mfrom\u001b[39;00m \u001b[38;5;21;01merr\u001b[39;00m\n\u001b[0;32m   3806\u001b[0m \u001b[38;5;28;01mexcept\u001b[39;00m \u001b[38;5;167;01mTypeError\u001b[39;00m:\n\u001b[0;32m   3807\u001b[0m     \u001b[38;5;66;03m# If we have a listlike key, _check_indexing_error will raise\u001b[39;00m\n\u001b[0;32m   3808\u001b[0m     \u001b[38;5;66;03m#  InvalidIndexError. Otherwise we fall through and re-raise\u001b[39;00m\n\u001b[0;32m   3809\u001b[0m     \u001b[38;5;66;03m#  the TypeError.\u001b[39;00m\n\u001b[0;32m   3810\u001b[0m     \u001b[38;5;28mself\u001b[39m\u001b[38;5;241m.\u001b[39m_check_indexing_error(key)\n",
            "\u001b[1;31mKeyError\u001b[0m: 'is_fraud'"
          ]
        }
      ],
      "source": [
        "# Define the target set y using the Class column\n",
        "y = encoded_df[\"is_fraud\"]\n",
        "\n",
        "# Display a sample of y\n",
        "y"
      ]
    },
    {
      "cell_type": "code",
      "execution_count": null,
      "metadata": {
        "colab": {
          "base_uri": "https://localhost:8080/",
          "height": 236
        },
        "id": "R8Ha9vE0QI0C",
        "outputId": "d1d6f574-bd40-4047-e379-dc8c3a9a5748"
      },
      "outputs": [],
      "source": [
        "# Define features set X by selecting all columns but Class\n",
        "X = encoded_df.drop(columns=['is_fraud'])\n",
        "\n",
        "# Review the features DataFrame\n",
        "X.head()"
      ]
    },
    {
      "cell_type": "markdown",
      "metadata": {
        "id": "w55xCgSKQI0C"
      },
      "source": [
        "### Step 3: Split the features and target sets into training and testing datasets.\n"
      ]
    },
    {
      "cell_type": "code",
      "execution_count": null,
      "metadata": {
        "id": "1Ng4jwFeQI0C"
      },
      "outputs": [],
      "source": [
        "# Split the preprocessed data into a training and testing dataset\n",
        "X_train, X_test, y_train, y_test = train_test_split(X, y, random_state=1)"
      ]
    },
    {
      "cell_type": "markdown",
      "metadata": {
        "id": "lPqVlFLWQI0D"
      },
      "source": [
        "### Step 4: Use scikit-learn's `StandardScaler` to scale the features data."
      ]
    },
    {
      "cell_type": "code",
      "execution_count": null,
      "metadata": {
        "id": "Srri_3BXQI0D"
      },
      "outputs": [],
      "source": [
        "# Create a StandardScaler instance\n",
        "scaler = StandardScaler()\n",
        "\n",
        "# Fit the scaler to the features training dataset\n",
        "X_scaler = scaler.fit(X_train)\n",
        "\n",
        "# Fit the scaler to the features training dataset\n",
        "X_train_scaled = X_scaler.transform(X_train)\n",
        "X_test_scaled = X_scaler.transform(X_test)"
      ]
    },
    {
      "cell_type": "markdown",
      "metadata": {
        "id": "qgMsQBqeQI0D"
      },
      "source": [
        "---\n",
        "\n",
        "## Step 5: Compile and Evaluate a Binary Classification Model Using a Neural Network"
      ]
    },
    {
      "cell_type": "markdown",
      "metadata": {
        "id": "Jcd_mlFnQI0D"
      },
      "source": [
        "### Creating a deep neural network by assigning the number of input features, the number of layers, and the number of neurons on each layer using Tensorflow’s Keras.\n"
      ]
    },
    {
      "cell_type": "code",
      "execution_count": null,
      "metadata": {
        "colab": {
          "base_uri": "https://localhost:8080/"
        },
        "id": "Fub8mg_qQI0E",
        "outputId": "c8cd4deb-b544-4f67-cdc1-98873c1b5006"
      },
      "outputs": [],
      "source": [
        "# Define the the number of inputs (features) to the model\n",
        "number_input_features = 30\n",
        "\n",
        "# Review the number of features\n",
        "number_input_features"
      ]
    },
    {
      "cell_type": "code",
      "execution_count": null,
      "metadata": {
        "id": "yYYUZJX7QI0E"
      },
      "outputs": [],
      "source": [
        "# Define the number of neurons in the output layer\n",
        "number_output_neurons = 1"
      ]
    },
    {
      "cell_type": "code",
      "execution_count": null,
      "metadata": {
        "colab": {
          "base_uri": "https://localhost:8080/"
        },
        "id": "S9bxbKGIQI0E",
        "outputId": "6d57ccb8-4292-41bd-b252-c6bb575dab42"
      },
      "outputs": [],
      "source": [
        "# Define the number of hidden nodes for the first hidden layer\n",
        "hidden_nodes_layer1 = 10\n",
        "\n",
        "# Review the number hidden nodes in the first layer\n",
        "hidden_nodes_layer1"
      ]
    },
    {
      "cell_type": "code",
      "execution_count": null,
      "metadata": {
        "id": "OhkF5a57x7zZ"
      },
      "outputs": [],
      "source": [
        "#updating the tensorflow library graph\n",
        "graph = tf.compat.v1.get_default_graph()"
      ]
    },
    {
      "cell_type": "code",
      "execution_count": null,
      "metadata": {
        "id": "XRigqCjqQI0F"
      },
      "outputs": [],
      "source": [
        "# Create the Sequential model instance\n",
        "nn = Sequential()"
      ]
    },
    {
      "cell_type": "code",
      "execution_count": null,
      "metadata": {
        "id": "tZf4Wmr2QI0F"
      },
      "outputs": [],
      "source": [
        "# Adding the hidden layer with an activation function \"relu\"\n",
        "nn.add(Dense(units=hidden_nodes_layer1, input_dim=number_input_features, activation=\"relu\"))"
      ]
    },
    {
      "cell_type": "code",
      "execution_count": null,
      "metadata": {
        "id": "lJ1eW4h_QI0F"
      },
      "outputs": [],
      "source": [
        "# Adding the output layer to the model specifying the number of output neurons and activation function for binary classification\n",
        "nn.add(Dense(units=number_output_neurons, activation='sigmoid'))"
      ]
    },
    {
      "cell_type": "code",
      "execution_count": null,
      "metadata": {
        "colab": {
          "base_uri": "https://localhost:8080/"
        },
        "id": "Nk5IiCj6QI0G",
        "outputId": "fac77e1d-17f2-408d-ca21-30e9d9ee8fc9"
      },
      "outputs": [],
      "source": [
        "# Display the Sequential model summary\n",
        "nn.summary()"
      ]
    },
    {
      "cell_type": "markdown",
      "metadata": {
        "id": "N_7FKq3RQI0G"
      },
      "source": [
        "###  Compile and fitting the model using the `binary_crossentropy` loss function, the `adam` optimizer, and the `accuracy` evaluation metric.\n"
      ]
    },
    {
      "cell_type": "code",
      "execution_count": null,
      "metadata": {
        "id": "qwn9B63SQI0G"
      },
      "outputs": [],
      "source": [
        "# Compile the Sequential model\n",
        "nn.compile(loss=\"binary_crossentropy\", optimizer='adam', metrics=['accuracy'])"
      ]
    },
    {
      "cell_type": "code",
      "execution_count": null,
      "metadata": {
        "colab": {
          "base_uri": "https://localhost:8080/"
        },
        "id": "WYV-nzPhQI0G",
        "outputId": "a8395948-621d-41a8-81a2-08419f70e29c"
      },
      "outputs": [],
      "source": [
        "# Fitting the model using 10 epochs and the training data\n",
        "deep_learning_model = nn.fit(X_train_scaled, y_train, epochs=10, verbose=1)"
      ]
    },
    {
      "cell_type": "markdown",
      "metadata": {
        "id": "4Lr5SzM6QI0G"
      },
      "source": [
        "### Step 3: Evaluate the model using the test data to determine the model’s loss and accuracy.\n"
      ]
    },
    {
      "cell_type": "code",
      "execution_count": null,
      "metadata": {
        "colab": {
          "base_uri": "https://localhost:8080/"
        },
        "id": "ooMp1IqBQI0H",
        "outputId": "dc492399-900f-4fcf-8cc5-a52e725d8111"
      },
      "outputs": [],
      "source": [
        "# Evaluate the model loss and accuracy metrics using the evaluate method and the test data\n",
        "model_loss, model_accuracy = nn.evaluate(X_test_scaled, y_test, verbose=1)\n",
        "\n",
        "# Display the model loss and accuracy results\n",
        "print(f\"Loss: {model_loss}, Accuracy: {model_accuracy}\")"
      ]
    },
    {
      "cell_type": "markdown",
      "metadata": {
        "id": "o9hZokDFQI0H"
      },
      "source": [
        "---\n",
        "\n",
        "## Optimize the neural network model\n"
      ]
    },
    {
      "cell_type": "markdown",
      "metadata": {
        "id": "WAMU0gOdQI0H"
      },
      "source": [
        "###  Defining two more deep neural network models (resulting in the original plus 2 optimization attempts). With each, try to improve on your first model’s predictive accuracy."
      ]
    },
    {
      "cell_type": "markdown",
      "metadata": {
        "id": "sBO9-cvtQI0I"
      },
      "source": [
        "### Alternative Model 1"
      ]
    },
    {
      "cell_type": "code",
      "execution_count": null,
      "metadata": {
        "id": "KIfXVgQTx7zb"
      },
      "outputs": [],
      "source": [
        "#setting callbacks function\n",
        "callbacks = [\n",
        "    keras.callbacks.EarlyStopping(\n",
        "        # Stop training when `val_loss`\n",
        "        # is no longer improving\n",
        "        monitor=\"loss\",\n",
        "        # \"no longer improving\" being defined\n",
        "        # as \"no better than 1e-2 less\"\n",
        "        min_delta=1e-2,\n",
        "        # \"no longer improving\" being further\n",
        "        # defined as \"for at least 2 epochs\"\n",
        "        patience=2,\n",
        "        verbose=1,\n",
        "    )\n",
        "]"
      ]
    },
    {
      "cell_type": "code",
      "execution_count": null,
      "metadata": {
        "colab": {
          "base_uri": "https://localhost:8080/"
        },
        "id": "Ut-yvgjFQI0I",
        "outputId": "da770d6a-5d99-4019-aab6-5655cccac189"
      },
      "outputs": [],
      "source": [
        "# Define the the number of inputs (features) to the model\n",
        "number_input_features = len(X_train.iloc[0])\n",
        "\n",
        "# Review the number of features\n",
        "number_input_features"
      ]
    },
    {
      "cell_type": "code",
      "execution_count": null,
      "metadata": {
        "id": "YULgAdKaQI0I"
      },
      "outputs": [],
      "source": [
        "# Define the number of neurons in the output layer\n",
        "number_output_neurons_A1 = 1"
      ]
    },
    {
      "cell_type": "code",
      "execution_count": null,
      "metadata": {
        "colab": {
          "base_uri": "https://localhost:8080/"
        },
        "id": "Ai06eu5bQI0I",
        "outputId": "54963daa-a8c5-492c-a82d-545b0e4a028a"
      },
      "outputs": [],
      "source": [
        "# Define the number of hidden nodes for the first hidden layer\n",
        "hidden_nodes_layer1_A1 = 10\n",
        "\n",
        "# Review the number of hidden nodes in the first layer\n",
        "hidden_nodes_layer1_A1"
      ]
    },
    {
      "cell_type": "code",
      "execution_count": null,
      "metadata": {
        "colab": {
          "base_uri": "https://localhost:8080/"
        },
        "id": "D_6hCx4_QI0I",
        "outputId": "6e35886f-06ea-4676-c200-ed96b9c8534f"
      },
      "outputs": [],
      "source": [
        "# Define the number of hidden nodes for the second hidden layer\n",
        "hidden_nodes_layer2_A1 = 10\n",
        "\n",
        "# Review the number of hidden nodes in the second layer\n",
        "hidden_nodes_layer2_A1"
      ]
    },
    {
      "cell_type": "code",
      "execution_count": null,
      "metadata": {
        "id": "XWlzC4W0QI0J"
      },
      "outputs": [],
      "source": [
        "# Create the Sequential model instance\n",
        "nn_A1 = Sequential()"
      ]
    },
    {
      "cell_type": "code",
      "execution_count": null,
      "metadata": {
        "colab": {
          "base_uri": "https://localhost:8080/"
        },
        "id": "7PIt3zo7QI0J",
        "outputId": "71e6fae9-0de2-4a5e-e0e1-414a749e8b35"
      },
      "outputs": [],
      "source": [
        "# First hidden layer\n",
        "nn_A1.add(Dense(units=hidden_nodes_layer1_A1, input_dim=number_input_features, activation=\"relu\"))\n",
        "\n",
        "#Second Hidden layer\n",
        "nn_A1.add(Dense(units=hidden_nodes_layer2_A1, input_dim=number_input_features, activation=\"relu\"))\n",
        "\n",
        "# Output layer\n",
        "nn_A1.add(Dense(units=number_output_neurons, activation='sigmoid'))\n",
        "\n",
        "# Check the structure of the model\n",
        "nn_A1.summary()"
      ]
    },
    {
      "cell_type": "code",
      "execution_count": null,
      "metadata": {
        "id": "h2ujH9AzQI0J"
      },
      "outputs": [],
      "source": [
        "# Compile the Sequential model\n",
        "nn_A1.compile(loss=\"binary_crossentropy\", optimizer='adam', metrics=['accuracy'])"
      ]
    },
    {
      "cell_type": "code",
      "execution_count": null,
      "metadata": {
        "colab": {
          "base_uri": "https://localhost:8080/"
        },
        "id": "IOJRpzY_QI0J",
        "outputId": "c4392152-2af3-41f7-8c82-388ffe6774f7"
      },
      "outputs": [],
      "source": [
        "# Fit the model using 10 epochs and the training data\n",
        "fit_model_A1 = nn_A1.fit(X_train_scaled, y_train, epochs=10, batch_size=64, verbose=1, validation_split=0.2, callbacks = callbacks)"
      ]
    },
    {
      "cell_type": "code",
      "execution_count": null,
      "metadata": {
        "colab": {
          "base_uri": "https://localhost:8080/"
        },
        "id": "ClxIGYkFpEqC",
        "outputId": "d5c0b1e0-6578-4a35-802b-4a00e44e6995"
      },
      "outputs": [],
      "source": [
        "model_loss, model_accuracy = nn_A1.evaluate(X_test_scaled, y_test, verbose=0)\n",
        "\n",
        "# Display the model loss and accuracy results\n",
        "print(f\"Loss: {model_loss}, Accuracy: {model_accuracy}\")"
      ]
    },
    {
      "cell_type": "code",
      "execution_count": null,
      "metadata": {
        "id": "3JRIxn_7x7zm",
        "outputId": "76bdcbe0-aa37-4bde-e69b-882d31dba7da"
      },
      "outputs": [],
      "source": [
        "#setting up variables and x and y axis for loss visual\n",
        "history = fit_model_A1.history\n",
        "\n",
        "# Extracting both training and validation loss values\n",
        "training_loss = history['loss']\n",
        "validation_loss = history['val_loss']\n",
        "\n",
        "# the range of epochs\n",
        "epochs = np.arange(0, len(training_loss) * 0.25, 0.25)\n",
        "\n",
        "# Plotting the training and validation loss\n",
        "plt.plot(epochs[:len(training_loss)], training_loss, 'g', label='Training loss')\n",
        "plt.plot(epochs[:len(validation_loss)], validation_loss, 'r-', label='Validation loss')\n",
        "plt.title('Training and validation loss')\n",
        "plt.xlabel('Epochs')\n",
        "plt.ylabel('Loss')\n",
        "\n",
        "\n",
        "plt.legend()\n",
        "plt.show()\n",
        "\n"
      ]
    },
    {
      "cell_type": "code",
      "execution_count": null,
      "metadata": {
        "id": "ouQrBfQux7zn",
        "outputId": "5dd67af9-0908-46fd-cd72-efcb0ee151b3"
      },
      "outputs": [],
      "source": [
        "#calculating predictive analysis\n",
        "y_pred = nn.predict(X_test_scaled)\n",
        "y_pred = np.where(y_pred > 0.5, 1, 0)"
      ]
    },
    {
      "cell_type": "code",
      "execution_count": null,
      "metadata": {
        "id": "WfbyVO2Ax7zo",
        "outputId": "3583bb1e-c115-42c1-fda5-7c6c61c5c960"
      },
      "outputs": [],
      "source": [
        "cm = confusion_matrix(y_test, y_pred)\n",
        "\n",
        "cm"
      ]
    },
    {
      "cell_type": "code",
      "execution_count": null,
      "metadata": {
        "id": "-a9OrB0Nx7zo",
        "outputId": "25661e71-5149-44a3-82ac-635a40cb71e0"
      },
      "outputs": [],
      "source": [
        "#using confusion matrix to visualize True Negatives and True Positives\n",
        "plt.figure(figsize=(8, 6))\n",
        "sns.heatmap(cm, annot=True, fmt='d', cmap='Blues',\n",
        "            xticklabels=['Not Fraud', 'Fraud'],\n",
        "            yticklabels=['Not Fraud', 'Fraud'])\n",
        "plt.xlabel('Predicted')\n",
        "plt.ylabel('Actual')\n",
        "plt.title('Confusion Matrix')\n",
        "plt.show()"
      ]
    },
    {
      "cell_type": "code",
      "execution_count": null,
      "metadata": {
        "id": "ptGmv9zmx7zo",
        "outputId": "65a8e3ec-2502-49ff-a96c-8532197c86ed"
      },
      "outputs": [],
      "source": [
        "print(classification_report(y_test, y_pred))"
      ]
    },
    {
      "cell_type": "markdown",
      "metadata": {
        "id": "kJ_JeOy4QI0J"
      },
      "source": [
        "#### Alternative Model 2"
      ]
    },
    {
      "cell_type": "code",
      "execution_count": null,
      "metadata": {
        "colab": {
          "base_uri": "https://localhost:8080/"
        },
        "id": "dnIvlNxLQI0K",
        "outputId": "a140e751-73ad-4136-c975-98609c5582ba"
      },
      "outputs": [],
      "source": [
        "# Define the the number of inputs (features) to the model\n",
        "number_input_features2 = len(X_train.iloc[0])\n",
        "\n",
        "# Review the number of features\n",
        "number_input_features2"
      ]
    },
    {
      "cell_type": "code",
      "execution_count": null,
      "metadata": {
        "id": "cSXNhhQpQI0K"
      },
      "outputs": [],
      "source": [
        "# Define the number of neurons in the output layer\n",
        "number_output_neurons_A2 = 1"
      ]
    },
    {
      "cell_type": "code",
      "execution_count": null,
      "metadata": {
        "colab": {
          "base_uri": "https://localhost:8080/"
        },
        "id": "uQHk29fhQI0K",
        "outputId": "7776bdc5-bab4-4277-fd50-2aabc11e426c"
      },
      "outputs": [],
      "source": [
        "# Define the number of hidden nodes for the first hidden layer\n",
        "hidden_nodes_layer1_A2 = 10\n",
        "\n",
        "# Review the number of hidden nodes in the first layer\n",
        "hidden_nodes_layer1_A2"
      ]
    },
    {
      "cell_type": "code",
      "execution_count": null,
      "metadata": {
        "colab": {
          "base_uri": "https://localhost:8080/"
        },
        "id": "IE0w-aC_QI0K",
        "outputId": "015a53d0-c921-4893-adfc-96fb6772fdec"
      },
      "outputs": [],
      "source": [
        "# Define the number of hidden nodes for the second hidden layer\n",
        "hidden_nodes_layer2_A2 = 10\n",
        "\n",
        "# Review the number of hidden nodes in the second layer\n",
        "hidden_nodes_layer2_A2"
      ]
    },
    {
      "cell_type": "code",
      "execution_count": null,
      "metadata": {
        "id": "f3VM-H_LQI0K"
      },
      "outputs": [],
      "source": [
        "# Create the Sequential model instance\n",
        "nn_A2 = Sequential()"
      ]
    },
    {
      "cell_type": "code",
      "execution_count": null,
      "metadata": {
        "id": "varRYB1xQI0L"
      },
      "outputs": [],
      "source": [
        "# First hidden layer\n",
        "nn_A2.add(Dense(units=hidden_nodes_layer1_A2, input_dim=number_input_features2, activation=\"tanh\"))\n",
        "\n",
        "#Second Hidden layer\n",
        "nn_A2.add(Dense(units=hidden_nodes_layer2_A2, activation=\"tanh\"))\n",
        "\n",
        "# Output layer\n",
        "nn_A2.add(Dense(units=number_output_neurons_A2, activation='sigmoid'))\n"
      ]
    },
    {
      "cell_type": "code",
      "execution_count": null,
      "metadata": {
        "colab": {
          "base_uri": "https://localhost:8080/"
        },
        "id": "RPxmJ8WGv3le",
        "outputId": "c75143e7-a357-4f41-9030-7f2ab0a92b26"
      },
      "outputs": [],
      "source": [
        "nn_A2.summary()"
      ]
    },
    {
      "cell_type": "code",
      "execution_count": null,
      "metadata": {
        "id": "Ri7VQ-LoQI0L"
      },
      "outputs": [],
      "source": [
        "# Compile the model\n",
        "nn_A2.compile(loss=\"binary_crossentropy\", optimizer='adam', metrics=['accuracy'])"
      ]
    },
    {
      "cell_type": "code",
      "execution_count": null,
      "metadata": {
        "colab": {
          "base_uri": "https://localhost:8080/"
        },
        "id": "bJ--GAisQI0L",
        "outputId": "e35f075c-fb66-4eb6-bd6c-8193f10d904a"
      },
      "outputs": [],
      "source": [
        "# Fit the model\n",
        "fit_model_A2 = nn_A2.fit(X_train_scaled, y_train, epochs=5, batch_size=128, verbose=1, validation_split=0.2, callbacks = callbacks)"
      ]
    },
    {
      "cell_type": "code",
      "execution_count": null,
      "metadata": {
        "id": "41Jwiprlx7zq",
        "outputId": "56abf1eb-b68f-475c-c4ed-e1c5ab9b8872"
      },
      "outputs": [],
      "source": [
        "#setting up variables and x and y axis for loss visual\n",
        "history_A2 = fit_model_A2.history\n",
        "\n",
        "# Extracting both training and validation loss values for 3rd model\n",
        "training_loss_A2 = history_A2['loss']\n",
        "validation_loss_A2 = history_A2['val_loss']\n",
        "\n",
        "# the range of epochs\n",
        "epochs_A2 = np.arange(0, len(training_loss_A2) * 0.25, 0.25)\n",
        "\n",
        "# Plotting the training and validation loss\n",
        "plt.plot(epochs_A2[:len(training_loss_A2)], training_loss_A2, 'g', label='Training loss')\n",
        "plt.plot(epochs_A2[:len(validation_loss_A2)], validation_loss_A2, 'r-', label='Validation loss')\n",
        "plt.title('Training and validation loss')\n",
        "plt.xlabel('Epochs')\n",
        "plt.ylabel('Loss')\n",
        "\n",
        "\n",
        "plt.legend()\n",
        "plt.show()"
      ]
    },
    {
      "cell_type": "markdown",
      "metadata": {
        "id": "79OcsSB1QI0L"
      },
      "source": [
        "### Displaying the accuracy scores achieved by each model, and comparing the results."
      ]
    },
    {
      "cell_type": "code",
      "execution_count": null,
      "metadata": {
        "colab": {
          "base_uri": "https://localhost:8080/"
        },
        "id": "j5xtDe-KQI0L",
        "outputId": "49226353-7abc-4a4a-afc5-ad0a6efe271b"
      },
      "outputs": [],
      "source": [
        "print(\"Original Model Results\")\n",
        "\n",
        "# Evaluate the model loss and accuracy metrics using the evaluate method and the test data\n",
        "model_loss, model_accuracy = nn.evaluate(X_test_scaled, y_test, verbose=0)\n",
        "\n",
        "# Display the model loss and accuracy results\n",
        "print(f\"Loss: {model_loss}, Accuracy: {model_accuracy}\")"
      ]
    },
    {
      "cell_type": "code",
      "execution_count": null,
      "metadata": {
        "colab": {
          "base_uri": "https://localhost:8080/"
        },
        "id": "9Ky6k8nNQI0L",
        "outputId": "3b979f77-c459-47a4-a461-67008dd3f0e5"
      },
      "outputs": [],
      "source": [
        "print(\"Alternative Model 1 Results\")\n",
        "\n",
        "# Evaluate the model loss and accuracy metrics using the evaluate method and the test data\n",
        "model_loss, model_accuracy = nn_A1.evaluate(X_test_scaled, y_test, verbose=0)\n",
        "\n",
        "\n",
        "# Display the model loss and accuracy results\n",
        "print(f\"Loss: {model_loss}, Accuracy: {model_accuracy}\")"
      ]
    },
    {
      "cell_type": "code",
      "execution_count": null,
      "metadata": {
        "colab": {
          "base_uri": "https://localhost:8080/"
        },
        "id": "sdnIgJUCQI0M",
        "outputId": "b1869686-2e07-40c0-cd17-57c345cb9993"
      },
      "outputs": [],
      "source": [
        "print(\"Alternative Model 2 Results\")\n",
        "\n",
        "# Evaluate the model loss and accuracy metrics using the evaluate method and the test data\n",
        "model_loss, model_accuracy = nn_A2.evaluate(X_test_scaled, y_test, verbose=0)\n",
        "\n",
        "\n",
        "# Display the model loss and accuracy results\n",
        "print(f\"Loss: {model_loss}, Accuracy: {model_accuracy}\")"
      ]
    },
    {
      "cell_type": "code",
      "execution_count": null,
      "metadata": {
        "id": "hxlZ0z_9QI0M"
      },
      "outputs": [],
      "source": []
    }
  ],
  "metadata": {
    "colab": {
      "provenance": []
    },
    "kernelspec": {
      "display_name": "Python 3 (ipykernel)",
      "language": "python",
      "name": "python3"
    },
    "language_info": {
      "codemirror_mode": {
        "name": "ipython",
        "version": 3
      },
      "file_extension": ".py",
      "mimetype": "text/x-python",
      "name": "python",
      "nbconvert_exporter": "python",
      "pygments_lexer": "ipython3",
      "version": "3.11.1"
    }
  },
  "nbformat": 4,
  "nbformat_minor": 0
}
